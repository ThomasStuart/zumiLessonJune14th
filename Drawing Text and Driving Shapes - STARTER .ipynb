{
 "cells": [
  {
   "cell_type": "code",
   "execution_count": 3,
   "metadata": {},
   "outputs": [],
   "source": [
    "# Using the starter code below, draw a line in the middle of the screen  \n",
    "\n",
    "#Python code\n",
    "from zumi.util.screen import Screen\n",
    "import time\n",
    "\n",
    "screen=Screen()\n",
    "\n",
    "txt = 'hello'\n",
    "x = 5\n",
    "y = 10\n",
    "screen.draw_text(txt, x, y)\n",
    "\n",
    "#time.sleep(0.1)\n",
    "#screen.clear_display()"
   ]
  },
  {
   "cell_type": "code",
   "execution_count": 17,
   "metadata": {},
   "outputs": [
    {
     "name": "stdout",
     "output_type": "stream",
     "text": [
      "Starting Zumi \n",
      "Pi Zero I2C is available\n",
      "Verified Pi Zero is the same\n",
      "Gyroscope previously calibrated\n",
      "Zumi board detected\n",
      "OLED Screen detected\n",
      "Gyroscope & Accelerometer detected\n"
     ]
    }
   ],
   "source": [
    "# have zumi drive a s like shape \n",
    "\n",
    "# go_straight(speed, desired_angle)\n",
    "\n",
    "#Python code\n",
    "from zumi.zumi import Zumi\n",
    "\n",
    "zumi = Zumi()\n",
    "zumi.reset_gyro()\n",
    "\n",
    "try:\n",
    "    for i in range(0, 50):\n",
    "        zumi.go_straight(40,i+5)\n",
    "    \n",
    "finally:\n",
    "    zumi.stop()"
   ]
  },
  {
   "cell_type": "code",
   "execution_count": null,
   "metadata": {},
   "outputs": [],
   "source": [
    "# use an IR sensor to display:\n",
    "# \"left\"  on Zumi's screen when the LEFT  IR sensor is covered\n",
    "# \"right\" on Zumi's screen when the RIGHT IR sensor is covered "
   ]
  }
 ],
 "metadata": {
  "kernelspec": {
   "display_name": "Python 3",
   "language": "python",
   "name": "python3"
  },
  "language_info": {
   "codemirror_mode": {
    "name": "ipython",
    "version": 3
   },
   "file_extension": ".py",
   "mimetype": "text/x-python",
   "name": "python",
   "nbconvert_exporter": "python",
   "pygments_lexer": "ipython3",
   "version": "3.5.3"
  }
 },
 "nbformat": 4,
 "nbformat_minor": 2
}
